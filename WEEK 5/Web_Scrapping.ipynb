{
  "nbformat": 4,
  "nbformat_minor": 0,
  "metadata": {
    "colab": {
      "provenance": []
    },
    "kernelspec": {
      "name": "python3",
      "display_name": "Python 3"
    },
    "language_info": {
      "name": "python"
    }
  },
  "cells": [
    {
      "cell_type": "code",
      "source": [
        "# Import necessary libraries\n",
        "import requests\n",
        "from bs4 import BeautifulSoup\n",
        "import pandas as pd\n",
        "# Initialize an empty list to store book information\n",
        "books = []\n",
        "\n",
        "# Loop through pages 1 to 4\n",
        "for i in range(1,5):\n",
        "  url = f\"https://books.toscrape.com/catalogue/page-{i}.html\"\n",
        "  response = requests.get(url)\n",
        "  response = response.content\n",
        "  soup = BeautifulSoup(response, 'html.parser')\n",
        "  # Find the 'ol' (ordered list) element containing book information\n",
        "  ol = soup.find('ol')\n",
        "  # Find all 'article' elements with the class 'product_pod'\n",
        "  articles = ol.find_all('article', class_='product_pod')\n",
        "   # Loop through each book 'article' element\n",
        "  for article in articles:\n",
        "    # Find the 'img' element to extract the book title from its 'alt' attribute\n",
        "    image = article.find('img')\n",
        "    title = image.attrs['alt']\n",
        "    # Find the 'p' (paragraph) element to extract the star rating from its 'class' attribute\n",
        "    starTag = article.find('p')\n",
        "    star = starTag['class'][1]\n",
        "    # Find the 'p' element with the class 'price_color' to extract the book price\n",
        "    price = article.find('p', class_='price_color').text\n",
        "    # price = float(price[1:])\n",
        "    # Append the book information to the 'books' list\n",
        "    books.append([title, star, price, url])\n",
        "\n",
        "# Create a DataFrame using pandas\n",
        "df = pd.DataFrame(books, columns=['Title', 'Star Rating', 'Price', 'Link'])\n",
        "# Write the DataFrame to a CSV file named 'books.csv'\n",
        "df.to_csv('books.csv')"
      ],
      "metadata": {
        "id": "nxO_yvP6qzul"
      },
      "execution_count": null,
      "outputs": []
    }
  ]
}