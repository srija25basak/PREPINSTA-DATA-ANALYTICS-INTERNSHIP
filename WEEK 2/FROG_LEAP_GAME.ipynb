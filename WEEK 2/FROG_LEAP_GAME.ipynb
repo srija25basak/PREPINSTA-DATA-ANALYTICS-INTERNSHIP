{
  "nbformat": 4,
  "nbformat_minor": 0,
  "metadata": {
    "colab": {
      "provenance": []
    },
    "kernelspec": {
      "name": "python3",
      "display_name": "Python 3"
    },
    "language_info": {
      "name": "python"
    }
  },
  "cells": [
    {
      "cell_type": "code",
      "execution_count": 4,
      "metadata": {
        "id": "o3DfAT3UPm6n"
      },
      "outputs": [],
      "source": []
    },
    {
      "cell_type": "markdown",
      "source": [
        "NAME: SRIJA BASAK\n",
        "\n",
        "PREPINSTA DATA ANALYTICS INTERNSHIP WEEK 2 TASK"
      ],
      "metadata": {
        "id": "q06vicYAPtRH"
      }
    },
    {
      "cell_type": "code",
      "source": [
        "Positions=list(['G','G','G','-','B','B','B'])\n",
        "print(\"ALWAYS ENTER A DIGIT LESS THAN 7\")\n",
        "print(\"[0 , 1 , 2 , 3 , 4 , 5 , 6]\")\n",
        "print(Positions)"
      ],
      "metadata": {
        "colab": {
          "base_uri": "https://localhost:8080/"
        },
        "id": "s3cfttfMPzSF",
        "outputId": "75d2bc76-b32b-4523-dd63-252768493ea3"
      },
      "execution_count": 5,
      "outputs": [
        {
          "output_type": "stream",
          "name": "stdout",
          "text": [
            "ALWAYS ENTER A DIGIT LESS THAN 7\n",
            "[0 , 1 , 2 , 3 , 4 , 5 , 6]\n",
            "['G', 'G', 'G', '-', 'B', 'B', 'B']\n"
          ]
        }
      ]
    },
    {
      "cell_type": "code",
      "source": [
        "def check_valid_move(pos):\n",
        "  if pos<0 or 6<pos:\n",
        "    return True\n",
        "  if Positions[pos] == '-':\n",
        "    return True\n",
        "  if Positions[pos] == 'G':\n",
        "    if(pos+1) <=6 and Positions[pos+1] == '-':\n",
        "      return False\n",
        "    elif (pos+2) <=6 and Positions[pos+2] == '-' and Positions[pos+1] == 'B':\n",
        "      return False\n",
        "    else:\n",
        "      return True\n",
        "\n",
        "    if Positions[pos] == 'B':\n",
        "      if (pos-1) >= 0 and Positions[pos-1] == '-':\n",
        "        return False\n",
        "      elif (pos-2) >= 0 and Positions[pos-2] == '-' and Positions[pos-1]=='G':\n",
        "        return False\n",
        "      else:\n",
        "        return True"
      ],
      "metadata": {
        "id": "_BpliidwQc_L"
      },
      "execution_count": 6,
      "outputs": []
    },
    {
      "cell_type": "code",
      "source": [
        "def Move(pos):\n",
        "  pos2=0\n",
        "  if Positions[pos] == 'G':\n",
        "    if Positions[pos+1] == '-':\n",
        "      pos2=(pos+1)\n",
        "    elif Positions[pos+2] == '-':\n",
        "      pos2=(pos+2)\n",
        "  elif Positions[pos] == 'B':\n",
        "    if Positions[pos-1]=='-':\n",
        "      pos2=(pos-1)\n",
        "    elif Positions[pos-2]=='-':\n",
        "      pos2=(pos-2)\n",
        "  #current position of frog to be empty leaf and frog moved to existing empty leaf\n",
        "  Positions[pos],Positions[pos2]=Positions[pos2],Positions[pos]"
      ],
      "metadata": {
        "id": "tgQafdAfSO1Q"
      },
      "execution_count": 7,
      "outputs": []
    },
    {
      "cell_type": "code",
      "source": [
        "while(True):\n",
        "  pos=input(\"Press q to quit else \\nEnter position of piece:\")\n",
        "  if pos == 'q':\n",
        "    print(\"YOU LOSE\")\n",
        "    break\n",
        "  pos=int(pos)\n",
        "  if check_valid_move(pos):\n",
        "    print(\"Invalid move\")\n",
        "    continue\n",
        "  else:\n",
        "    Move(pos)\n",
        "\n",
        "    print(\"[0 ,  1 ,  2 ,  3 ,  4 ,  5 ,  6]\")\n",
        "    print(Positions)\n",
        "    if Positions == ['B','B','B','-','G','G','G']:\n",
        "      print(\"YOU WIN!!\")\n",
        "      break"
      ],
      "metadata": {
        "colab": {
          "base_uri": "https://localhost:8080/"
        },
        "id": "s9snQgz8TfN9",
        "outputId": "752e4521-da7b-49a5-b866-3e20ebed7e4c"
      },
      "execution_count": 8,
      "outputs": [
        {
          "output_type": "stream",
          "name": "stdout",
          "text": [
            "Press q to quit else \n",
            "Enter position of piece:2\n",
            "[0 ,  1 ,  2 ,  3 ,  4 ,  5 ,  6]\n",
            "['G', 'G', '-', 'G', 'B', 'B', 'B']\n",
            "Press q to quit else \n",
            "Enter position of piece:4\n",
            "[0 ,  1 ,  2 ,  3 ,  4 ,  5 ,  6]\n",
            "['G', 'G', 'B', 'G', '-', 'B', 'B']\n",
            "Press q to quit else \n",
            "Enter position of piece:3\n",
            "[0 ,  1 ,  2 ,  3 ,  4 ,  5 ,  6]\n",
            "['G', 'G', 'B', '-', 'G', 'B', 'B']\n",
            "Press q to quit else \n",
            "Enter position of piece:1\n",
            "[0 ,  1 ,  2 ,  3 ,  4 ,  5 ,  6]\n",
            "['G', '-', 'B', 'G', 'G', 'B', 'B']\n",
            "Press q to quit else \n",
            "Enter position of piece:5\n",
            "[0 ,  1 ,  2 ,  3 ,  4 ,  5 ,  6]\n",
            "['B', '-', 'B', 'G', 'G', 'G', 'B']\n",
            "Press q to quit else \n",
            "Enter position of piece:3\n",
            "Invalid move\n",
            "Press q to quit else \n",
            "Enter position of piece:q\n",
            "YOU LOSE\n"
          ]
        }
      ]
    }
  ]
}